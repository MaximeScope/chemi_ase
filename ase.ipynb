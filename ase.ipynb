{
 "cells": [
  {
   "cell_type": "code",
   "execution_count": 7,
   "metadata": {},
   "outputs": [
    {
     "data": {
      "text/plain": [
       "<Popen: returncode: None args: ['/opt/homebrew/opt/python@3.11/bin/python3.1...>"
      ]
     },
     "execution_count": 7,
     "metadata": {},
     "output_type": "execute_result"
    },
    {
     "name": "stderr",
     "output_type": "stream",
     "text": [
      "usage: ase [-h] [--version] [-T]\n",
      "           {help,info,test,gui,db,run,band-structure,build,dimensionality,eos,ulm,find,nebplot,nomad-upload,nomad-get,convert,reciprocal,completion,diff,exec}\n",
      "           ...\n",
      "ase: error: ModuleNotFoundError: No module named '_tkinter'\n",
      "To get a full traceback, use: ase -T gui ...\n"
     ]
    }
   ],
   "source": [
    "import ase\n",
    "from ase.build import bulk\n",
    "from ase import Atoms\n",
    "import numpy as np\n",
    "\n",
    "# Define lattice vectors\n",
    "directions = [[1, -1, 0], [1, 1, -2], [1, 1, 1]]\n",
    "\n",
    "# Create a bulk FCC copper structure\n",
    "cu_bulk = bulk('Cu', cubic=True)\n",
    "\n",
    "# Set the lattice vectors to the specified directions\n",
    "cu_bulk.set_cell(np.dot(cu_bulk.cell.cellpar()[:3], directions), scale_atoms=True)\n",
    "\n",
    "# Repeat the unit cell to create a larger lattice\n",
    "cu_bulk = cu_bulk.repeat((3, 3, 3))\n",
    "\n",
    "# Add an interstitial point defect at a random position\n",
    "def add_interstitial(atom_list):\n",
    "    # Randomly select an atom\n",
    "    random_index = np.random.randint(len(atom_list))\n",
    "    random_atom = atom_list[random_index]\n",
    "\n",
    "    # Get the position of the selected atom\n",
    "    position = random_atom.position\n",
    "\n",
    "    # Create a new atom at a random offset from the selected atom\n",
    "    offset = np.random.rand(3) * 0.2 - 0.1  # Random offset in the range [-0.1, 0.1]\n",
    "    new_position = position + offset\n",
    "\n",
    "    # Create a new atom with the same symbol and the new position\n",
    "    new_atom = Atoms(random_atom.symbol, positions=[new_position])\n",
    "\n",
    "    # Add the new atom to the existing structure\n",
    "    atom_list += new_atom\n",
    "\n",
    "# Call the function to add the interstitial point defect\n",
    "add_interstitial(cu_bulk)\n",
    "\n",
    "# View the structure\n",
    "view(cu_bulk)"
   ]
  }
 ],
 "metadata": {
  "kernelspec": {
   "display_name": "Python 3",
   "language": "python",
   "name": "python3"
  },
  "language_info": {
   "codemirror_mode": {
    "name": "ipython",
    "version": 3
   },
   "file_extension": ".py",
   "mimetype": "text/x-python",
   "name": "python",
   "nbconvert_exporter": "python",
   "pygments_lexer": "ipython3",
   "version": "3.11.5"
  },
  "orig_nbformat": 4
 },
 "nbformat": 4,
 "nbformat_minor": 2
}
