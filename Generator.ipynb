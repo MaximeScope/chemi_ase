{
 "cells": [
  {
   "cell_type": "code",
   "execution_count": 1,
   "metadata": {},
   "outputs": [],
   "source": [
    "import ase\n",
    "from ase.build import bulk\n",
    "from ase.lattice.cubic import FaceCenteredCubic\n",
    "from ase.calculators.lammpslib import LAMMPSlib\n",
    "from ase.calculators import lj, morse\n",
    "from ase import units\n",
    "import chemiscope as chemi\n",
    "import os\n",
    "import numpy as np\n",
    "import defects\n",
    "import potentials"
   ]
  },
  {
   "cell_type": "markdown",
   "metadata": {},
   "source": [
    "## Make a XYZ file ##"
   ]
  },
  {
   "cell_type": "code",
   "execution_count": 2,
   "metadata": {},
   "outputs": [],
   "source": [
    "# Initial Data Parameters:\n",
    "\n",
    "atom = 'Cu'\n",
    "structure = 'fcc'\n",
    "n_vacancies = 1 # Number of defects to be generated (removed atoms)\n",
    "interstitial = 'Be'\n",
    "\n",
    "# Lattice parameters:\n",
    "# r_lat0 = 3.60 * units.Angstrom # [Angstrom]\n",
    "# E_co = 4.807e-14 * units.eV # [eV]\n",
    "# Bulk_modulus = 1.33e+6 * units.bar # [bar]\n",
    "\n",
    "# Results from DFT calculations:\n",
    "JtoeV = 1.602176634e-19 # [eV/J]\n",
    "epsilon = 6.567e-20 / JtoeV * units.eV # [eV]\n",
    "sigma = 2.334 * units.Angstrom # [Meters]\n",
    "cutoff_radius = 10.0 * units.Angstrom # [Angstrom]\n",
    "D = 5.292e-20 / JtoeV * units.eV # epsilon for morse potential\n",
    "alpha = 1.329 / units.Angstrom # A for morse potential\n",
    "r0 = 2.885 * units.Angstrom # r_min for morse potential\n",
    "\n",
    "# Interstitial parameters:\n",
    "# between two interstitials\n",
    "epsilon_int = 6.213e-20 * units.eV\n",
    "sigma_int = 2.063 * units.Angstrom\n",
    "D_int = 3.534e-20 / JtoeV * units.eV\n",
    "alpha_int = 1.140 / units.Angstrom\n",
    "r0_int = 2.898 * units.Angstrom\n",
    "\n",
    "# between the main atom and an interstitial\n",
    "epsilon_mix = (epsilon * epsilon_int) ** 0.5 \n",
    "sigma_mix = (sigma + sigma_int) * 0.5\n",
    "D_mix = 2 * D * D_int / (D + D_int)\n",
    "alpha_mix = alpha * alpha_int * (alpha + alpha_int)/ (alpha ** 2 + alpha_int ** 2)\n",
    "r0_mix = r0 * r0_int * (r0 + r0_int) / (r0 ** 2 + r0_int ** 2)\n",
    "\n",
    "# dislocation parameters:\n",
    "dislocation_plane = 'xz'\n",
    "line_direction = 'y'\n",
    "line_position = (0.5, 0.5, 0.5)"
   ]
  },
  {
   "cell_type": "code",
   "execution_count": 3,
   "metadata": {},
   "outputs": [],
   "source": [
    "# Generate the ASE bulk data (unused):\n",
    "# aseBulkData = bulk(\n",
    "#     atom, \n",
    "#     structure, \n",
    "#     a=r_lat0,\n",
    "#     cubic=True\n",
    "# )"
   ]
  },
  {
   "cell_type": "code",
   "execution_count": 4,
   "metadata": {},
   "outputs": [],
   "source": [
    "# Generate the ASE lattice data (used):\n",
    "aseLatticeData = FaceCenteredCubic(\n",
    "    directions=[[1,-1,0], [1,1,-2], [1,1,1]],\n",
    "    size=(3,3,3),\n",
    "    symbol='Cu',\n",
    "    pbc=(1,1,1)\n",
    ")"
   ]
  },
  {
   "cell_type": "code",
   "execution_count": 5,
   "metadata": {},
   "outputs": [],
   "source": [
    "# Generate a directory for the atom:\n",
    "if not os.path.exists(atom):\n",
    "    os.makedirs(atom)\n",
    "# inside the {atom} directory, generate a directory for the structure:\n",
    "if not os.path.exists(f'{atom}/XYZ'):\n",
    "    os.makedirs(f'{atom}/XYZ')\n",
    "if not os.path.exists(f'{atom}/JSON'):\n",
    "    os.makedirs(f'{atom}/JSON')\n",
    "    \n",
    "\n",
    "# Write the ASE data to a XYZ file:\n",
    "XYZPath = f'{atom}/XYZ/{atom}_{structure}'\n",
    "XYZBase = XYZPath + '.xyz'\n",
    "aseLatticeData.write(XYZBase)"
   ]
  },
  {
   "cell_type": "markdown",
   "metadata": {},
   "source": [
    "## Generate defects ##"
   ]
  },
  {
   "cell_type": "code",
   "execution_count": 6,
   "metadata": {},
   "outputs": [
    {
     "name": "stdout",
     "output_type": "stream",
     "text": [
      "Removed atom 126 from Cu_fcc_vacancy.xyz\n"
     ]
    }
   ],
   "source": [
    "defects.vacancies(\n",
    "    atom,\n",
    "    structure,\n",
    "    aseLatticeData,\n",
    "    n_vacancies\n",
    ")\n",
    "defects.dislocations(\n",
    "    atom,\n",
    "    structure,\n",
    "    aseLatticeData,\n",
    "    dislocation_plane=dislocation_plane,\n",
    "    line_direction=line_direction,\n",
    "    line_position=line_position\n",
    ")\n",
    "defects.interstitials(\n",
    "    atom,\n",
    "    structure,\n",
    "    aseLatticeData,\n",
    "    interstitial\n",
    ")\n",
    "\n",
    "XYZVacancy = XYZPath + '_vacancy.xyz'\n",
    "XYZDislocation = XYZPath + '_dislocation.xyz'\n",
    "XYZInterstitial = XYZPath + '_interstitial.xyz'"
   ]
  },
  {
   "cell_type": "markdown",
   "metadata": {},
   "source": [
    "## Calculate Potentials ##"
   ]
  },
  {
   "cell_type": "code",
   "execution_count": 7,
   "metadata": {},
   "outputs": [
    {
     "name": "stdout",
     "output_type": "stream",
     "text": [
      "Atoms(symbols='Cu162', pbc=True, cell=[7.65796644025031, 13.263986957170907, 18.75811024597094])\n",
      "pair_coeff 1 1 0.4098799009198383 2.334\n",
      "['pair_style lj/cut 10.0', 'pair_coeff 1 1 0.4098799009198383 2.334']\n",
      "{'Cu': 1}\n",
      "Atoms(symbols='Cu162', pbc=True, cell=[7.65796644025031, 13.263986957170907, 18.75811024597094], calculator=LAMMPSlib(...))\n",
      "pair_coeff 1 1 0.33030066022046356 1.329 2.885\n",
      "['pair_style morse 10.0', 'pair_coeff 1 1 0.33030066022046356 1.329 2.885']\n",
      "{'Cu': 1}\n",
      "Atoms(symbols='Cu161', pbc=True, cell=[7.65796644025031, 13.263986957170907, 18.75811024597094])\n",
      "pair_coeff 1 1 0.4098799009198383 2.334\n",
      "['pair_style lj/cut 10.0', 'pair_coeff 1 1 0.4098799009198383 2.334']\n",
      "{'Cu': 1}\n",
      "Atoms(symbols='Cu161', pbc=True, cell=[7.65796644025031, 13.263986957170907, 18.75811024597094], calculator=LAMMPSlib(...))\n",
      "pair_coeff 1 1 0.33030066022046356 1.329 2.885\n",
      "['pair_style morse 10.0', 'pair_coeff 1 1 0.33030066022046356 1.329 2.885']\n",
      "{'Cu': 1}\n",
      "Atoms(symbols='Cu162', pbc=True, cell=[7.65796644025031, 13.263986957170907, 18.75811024597094])\n",
      "pair_coeff 1 1 0.4098799009198383 2.334\n",
      "['pair_style lj/cut 10.0', 'pair_coeff 1 1 0.4098799009198383 2.334']\n",
      "{'Cu': 1}\n",
      "Atoms(symbols='Cu162', pbc=True, cell=[7.65796644025031, 13.263986957170907, 18.75811024597094], calculator=LAMMPSlib(...))\n",
      "pair_coeff 1 1 0.33030066022046356 1.329 2.885\n",
      "['pair_style morse 10.0', 'pair_coeff 1 1 0.33030066022046356 1.329 2.885']\n",
      "{'Cu': 1}\n",
      "Atoms(symbols='BeCu162', pbc=True, cell=[7.65796644025031, 13.263986957170907, 18.75811024597094])\n",
      "pair_coeff 1 1 0.4098799009198383 2.334\n",
      "pair_coeff 2 1 6.213e-20 2.063\n",
      "pair_coeff 2 2 1.595801937715002e-10 2.1985\n",
      "['pair_style lj/cut 10.0', 'pair_coeff 1 1 0.4098799009198383 2.334', 'pair_coeff 2 1 6.213e-20 2.063', 'pair_coeff 2 2 1.595801937715002e-10 2.1985']\n",
      "{'Cu': 1, 'Be': 2}\n",
      "Atoms(symbols='BeCu162', pbc=True, cell=[7.65796644025031, 13.263986957170907, 18.75811024597094], calculator=LAMMPSlib(...))\n",
      "pair_coeff 1 1 0.33030066022046356 1.329 2.885\n",
      "pair_coeff 2 1 0.22057493069144338 1.14 2.898\n",
      "pair_coeff 2 2 0.2645099780691408 1.220116483535839 2.8914707765613024\n",
      "['pair_style morse 10.0', 'pair_coeff 1 1 0.33030066022046356 1.329 2.885', 'pair_coeff 2 1 0.22057493069144338 1.14 2.898', 'pair_coeff 2 2 0.2645099780691408 1.220116483535839 2.8914707765613024']\n",
      "{'Cu': 1, 'Be': 2}\n"
     ]
    }
   ],
   "source": [
    "XYZ = [XYZVacancy, XYZDislocation, XYZInterstitial]\n",
    "frames = ase.io.read(XYZBase, ':')\n",
    "for xyz in XYZ:\n",
    "    frames += ase.io.read(xyz, ':')\n",
    "\n",
    "properties = []\n",
    "for i, frame in enumerate(frames):\n",
    "    Charges = frame.get_atomic_numbers()\n",
    "\n",
    "    LennardJones = potentials.LAMMPS(\n",
    "        frame=frame,\n",
    "        potential=\"lj/cut\",\n",
    "        cutoff_radius=cutoff_radius,\n",
    "        parameters=[[epsilon, sigma]] if i != 3 else [[epsilon, sigma], [epsilon_int, sigma_int], [epsilon_mix, sigma_mix]],\n",
    "        atoms=[atom, interstitial] if i == 3 else [atom]\n",
    "    )\n",
    "\n",
    "    Morse = potentials.LAMMPS(\n",
    "        frame=frame,\n",
    "        potential=\"morse\",\n",
    "        cutoff_radius=cutoff_radius,\n",
    "        parameters=[[D, alpha, r0]] if i != 3 else [[D, alpha, r0], [D_int, alpha_int, r0_int], [D_mix, alpha_mix, r0_mix]],\n",
    "        atoms=[atom, interstitial] if i == 3 else [atom]\n",
    "    )\n",
    "\n",
    "    # LJTemp = potentials.LJ(\n",
    "    #     frame=frame,\n",
    "    #     sigma=sigma,\n",
    "    #     epsilon=epsilon\n",
    "    # )\n",
    "\n",
    "    properties.append({**LennardJones, **Morse})\n",
    "\n",
    "# print(properties)"
   ]
  },
  {
   "cell_type": "code",
   "execution_count": 8,
   "metadata": {},
   "outputs": [],
   "source": [
    "JSONPath = f\"{atom}/JSON/{atom}_{structure}\"\n",
    "path = JSONPath + '.json.gz'\n",
    "DatasetInformation = {\n",
    "    'name': atom + ' ' + structure,\n",
    "    'description': 'Semester Project 1, atom ' + atom + ' in ' + structure + ' structure',\n",
    "    'authors': [\n",
    "        'Maxime Saillen',\n",
    "    ],\n",
    "    'references': [\n",
    "        'https://doi.org/10.1016/j.commatsci.2022.111206',\n",
    "    ],\n",
    "}\n",
    "\n",
    "for i in range(len(frames)):\n",
    "    if i == 1:\n",
    "        DatasetInformation['name'] += ' with ' + str(n_vacancies) + ' vacancies'\n",
    "        DatasetInformation['description'] += ' with ' + str(n_vacancies) + ' vacancies'\n",
    "        path = JSONPath + '_vacancy.json.gz'\n",
    "\n",
    "    elif i == 2:\n",
    "        DatasetInformation['name'] += ' with a dislocation along the ' + str(line_direction) + ' axis'\n",
    "        DatasetInformation['description'] += ' with a dislocation along the ' + str(line_direction) + ' axis'\n",
    "        path = JSONPath + '_dislocation.json.gz'\n",
    "\n",
    "    elif i == 3:\n",
    "        DatasetInformation['name'] += ' with a ' + str(interstitial) + ' interstitial'\n",
    "        DatasetInformation['description'] += ' with a ' + str(interstitial) + ' interstitial'\n",
    "        path = JSONPath + '_interstitial.json.gz'\n",
    "\n",
    "    chemi.write_input(\n",
    "        path=path,\n",
    "        frames=frames[i], \n",
    "        meta=DatasetInformation, \n",
    "        properties=properties[i], \n",
    "        environments=chemi.all_atomic_environments(frames[i]), \n",
    "        settings=None, \n",
    "        shapes=None, \n",
    "        parameters=None\n",
    "    )"
   ]
  }
 ],
 "metadata": {
  "kernelspec": {
   "display_name": "Python 3",
   "language": "python",
   "name": "python3"
  },
  "language_info": {
   "codemirror_mode": {
    "name": "ipython",
    "version": 3
   },
   "file_extension": ".py",
   "mimetype": "text/x-python",
   "name": "python",
   "nbconvert_exporter": "python",
   "pygments_lexer": "ipython3",
   "version": "3.11.5"
  },
  "orig_nbformat": 4
 },
 "nbformat": 4,
 "nbformat_minor": 2
}
