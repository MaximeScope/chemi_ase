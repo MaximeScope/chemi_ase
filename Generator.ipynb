{
 "cells": [
  {
   "cell_type": "code",
   "execution_count": 6,
   "metadata": {},
   "outputs": [],
   "source": [
    "import ase\n",
    "from ase.build import bulk\n",
    "from ase.lattice.cubic import FaceCenteredCubic\n",
    "from ase.calculators import lj, morse\n",
    "import chemiscope as chemi\n",
    "import os\n",
    "import numpy as np"
   ]
  },
  {
   "cell_type": "markdown",
   "metadata": {},
   "source": [
    "## Make a XYZ file ##"
   ]
  },
  {
   "cell_type": "code",
   "execution_count": 7,
   "metadata": {},
   "outputs": [],
   "source": [
    "Atom = 'Cu'\n",
    "Structure = 'fcc'\n",
    "\n",
    "# Lattice parameters:\n",
    "r_lat0 = 3.60 # [Angstrom]\n",
    "E_co = 3.38e5 # [Joules]\n",
    "Bulk_modulus = 133 # [GPa]\n",
    "# Results from DFT calculations:\n",
    "epsilon = 6.567 # [Joules]\n",
    "sigma = 2.334e-10 # [Meters]\n",
    "\n",
    "# Generate a directory for the atom:\n",
    "if not os.path.exists(Atom):\n",
    "    os.makedirs(Atom)\n",
    "\n",
    "# Generate the ASE data:\n",
    "aseBulkData = bulk(\n",
    "    Atom, \n",
    "    Structure, \n",
    "    a=r_lat0,\n",
    "    cubic=True\n",
    ")\n",
    "aseLatticeData = FaceCenteredCubic(\n",
    "    directions=[[1,-1,0], [1,1,-2], [1,1,1]],\n",
    "    size=(2,2,3),\n",
    "    symbol='Cu',\n",
    "    pbc=(1,1,0)\n",
    ")\n",
    "\n",
    "# Write the ASE data to a XYZ file:\n",
    "aseBulkData.write(f'{Atom}/{Atom}_bulk_{Structure}.xyz')\n",
    "aseLatticeData.write(f'{Atom}/{Atom}_lattice_{Structure}.xyz')"
   ]
  },
  {
   "cell_type": "markdown",
   "metadata": {},
   "source": [
    "## Generate defects (to do) ##"
   ]
  },
  {
   "cell_type": "code",
   "execution_count": 8,
   "metadata": {},
   "outputs": [],
   "source": [
    "# Duplicate the XYZ file\n",
    "# os.system(f'cp {Atom}/{Atom}_{Structure}.xyz {Atom}/{Atom}_{Structure}_defect.xyz')\n",
    "\n",
    "# Generate random defects in the XYZ file:\n",
    "# TO DO #"
   ]
  },
  {
   "cell_type": "markdown",
   "metadata": {},
   "source": [
    "## Calculate Potentials ##"
   ]
  },
  {
   "cell_type": "code",
   "execution_count": 9,
   "metadata": {},
   "outputs": [
    {
     "name": "stdout",
     "output_type": "stream",
     "text": [
      "{'LennardJones': {'target': 'atom', 'values': array([0., 0., 0., 0., 0., 0., 0., 0., 0., 0., 0., 0., 0., 0., 0., 0., 0.,\n",
      "       0., 0., 0., 0., 0., 0., 0., 0., 0., 0., 0., 0., 0., 0., 0., 0., 0.,\n",
      "       0., 0., 0., 0., 0., 0., 0., 0., 0., 0., 0., 0., 0., 0., 0., 0., 0.,\n",
      "       0., 0., 0., 0., 0., 0., 0., 0., 0., 0., 0., 0., 0., 0., 0., 0., 0.,\n",
      "       0., 0., 0., 0.]), 'units': 'J'}, 'LennardJonesGlobal': {'target': 'structure', 'values': array([0.]), 'units': 'J'}, 'AtomicNumbers': {'target': 'atom', 'values': array([29, 29, 29, 29, 29, 29, 29, 29, 29, 29, 29, 29, 29, 29, 29, 29, 29,\n",
      "       29, 29, 29, 29, 29, 29, 29, 29, 29, 29, 29, 29, 29, 29, 29, 29, 29,\n",
      "       29, 29, 29, 29, 29, 29, 29, 29, 29, 29, 29, 29, 29, 29, 29, 29, 29,\n",
      "       29, 29, 29, 29, 29, 29, 29, 29, 29, 29, 29, 29, 29, 29, 29, 29, 29,\n",
      "       29, 29, 29, 29]), 'units': 'J'}, 'MorseGlobal': {'target': 'structure', 'values': array([-0.00341323]), 'units': 'J'}}\n"
     ]
    }
   ],
   "source": [
    "frames = ase.io.read(f'{Atom}/{Atom}_lattice_{Structure}.xyz', ':')\n",
    "\n",
    "Charges = aseLatticeData.get_atomic_numbers()\n",
    "\n",
    "aseLatticeData.calc = lj.LennardJones(sigma=sigma, epsilon=epsilon)\n",
    "LennardJonesData = aseLatticeData.get_potential_energies()\n",
    "LennardJonesDataGlobal = aseLatticeData.get_potential_energy()\n",
    "\n",
    "aseLatticeData.calc = morse.MorsePotential()\n",
    "# Not implemented: MorseData = aseBulkData.get_potential_energies()\n",
    "MorseDataGlobal = aseLatticeData.get_potential_energy()\n",
    "\n",
    "properties = {\n",
    "    \"LennardJones\": {\n",
    "        \"target\": \"atom\",\n",
    "        \"values\": LennardJonesData,\n",
    "        \"units\": \"J\",\n",
    "    },\n",
    "    \"LennardJonesGlobal\": {\n",
    "        \"target\": \"structure\",\n",
    "        \"values\": np.array([LennardJonesDataGlobal]),\n",
    "        \"units\": \"J\",\n",
    "    },\n",
    "    \"AtomicNumbers\": {\n",
    "        \"target\": \"atom\",\n",
    "        \"values\": Charges,\n",
    "        \"units\": \"J\",\n",
    "    },\n",
    "    \"MorseGlobal\": {\n",
    "        \"target\": \"structure\",\n",
    "        \"values\": np.array([MorseDataGlobal]),\n",
    "        \"units\": \"J\",\n",
    "    },\n",
    "}\n",
    "\n",
    "print(properties)"
   ]
  },
  {
   "cell_type": "code",
   "execution_count": 10,
   "metadata": {},
   "outputs": [],
   "source": [
    "DatasetInformation = {\n",
    "    'name': Atom + ' ' + Structure,\n",
    "    'description': 'Semester Project 1, atom ' + Atom + ' in ' + Structure + ' structure',\n",
    "    'authors': [\n",
    "        'Maxime Saillen',\n",
    "    ],\n",
    "    'references': [\n",
    "        'https://doi.org/10.1016/j.commatsci.2022.111206',\n",
    "    ],\n",
    "}\n",
    "\n",
    "chemi.write_input(\n",
    "    path=f\"{Atom}/{Atom}.json.gz\",\n",
    "    frames=frames, \n",
    "    meta=DatasetInformation, \n",
    "    properties=properties, \n",
    "    environments=chemi.all_atomic_environments(frames), \n",
    "    settings=None, \n",
    "    shapes=None, \n",
    "    parameters=None\n",
    ")"
   ]
  }
 ],
 "metadata": {
  "kernelspec": {
   "display_name": "Python 3",
   "language": "python",
   "name": "python3"
  },
  "language_info": {
   "codemirror_mode": {
    "name": "ipython",
    "version": 3
   },
   "file_extension": ".py",
   "mimetype": "text/x-python",
   "name": "python",
   "nbconvert_exporter": "python",
   "pygments_lexer": "ipython3",
   "version": "3.11.5"
  },
  "orig_nbformat": 4
 },
 "nbformat": 4,
 "nbformat_minor": 2
}
