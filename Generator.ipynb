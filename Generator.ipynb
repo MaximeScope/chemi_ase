{
 "cells": [
  {
   "cell_type": "code",
   "execution_count": 9,
   "metadata": {},
   "outputs": [],
   "source": [
    "import ase\n",
    "from ase.build import bulk\n",
    "from ase.lattice.cubic import FaceCenteredCubic\n",
    "from ase.calculators.lammpslib import LAMMPSlib\n",
    "import chemiscope as chemi\n",
    "import os\n",
    "import numpy as np"
   ]
  },
  {
   "cell_type": "markdown",
   "metadata": {},
   "source": [
    "## Make a XYZ file ##"
   ]
  },
  {
   "cell_type": "code",
   "execution_count": 10,
   "metadata": {},
   "outputs": [],
   "source": [
    "# Initial Data Parameters:\n",
    "\n",
    "Atom = 'Cu'\n",
    "Structure = 'fcc'\n",
    "n_defects = 1 # Number of defects to be generated (removed atoms)\n",
    "\n",
    "# Lattice parameters:\n",
    "r_lat0 = 3.60 # [Angstrom]\n",
    "E_co = 3.38e5 # [Joules]\n",
    "Bulk_modulus = 133 # [GPa]\n",
    "# Results from DFT calculations:\n",
    "epsilon = 6.567 # [Joules]\n",
    "sigma = 2.334e-10 # [Meters]\n",
    "cutoff_radius = 10.0 # [Angstrom]\n",
    "D = 5.292e-20 # epsilon for morse potential\n",
    "alpha = 1.329e+10 # A for morse potential\n",
    "r0 = 2.885e-10 # r_min for morse potential"
   ]
  },
  {
   "cell_type": "code",
   "execution_count": 11,
   "metadata": {},
   "outputs": [],
   "source": [
    "# Generate the ASE bulk data (unused):\n",
    "# aseBulkData = bulk(\n",
    "#     Atom, \n",
    "#     Structure, \n",
    "#     a=r_lat0,\n",
    "#     cubic=True\n",
    "# )"
   ]
  },
  {
   "cell_type": "code",
   "execution_count": 12,
   "metadata": {},
   "outputs": [],
   "source": [
    "# Generate the ASE lattice data (used):\n",
    "aseLatticeData = FaceCenteredCubic(\n",
    "    directions=[[1,-1,0], [1,1,-2], [1,1,1]],\n",
    "    size=(2,2,3),\n",
    "    symbol='Cu',\n",
    "    pbc=(1,1,0)\n",
    ")"
   ]
  },
  {
   "cell_type": "code",
   "execution_count": 13,
   "metadata": {},
   "outputs": [],
   "source": [
    "# Generate a directory for the atom:\n",
    "if not os.path.exists(Atom):\n",
    "    os.makedirs(Atom)\n",
    "# inside the {Atom} directory, generate a directory for the structure:\n",
    "if not os.path.exists(f'{Atom}/XYZ'):\n",
    "    os.makedirs(f'{Atom}/XYZ')\n",
    "if not os.path.exists(f'{Atom}/JSON'):\n",
    "    os.makedirs(f'{Atom}/JSON')\n",
    "    \n",
    "\n",
    "# Write the ASE data to a XYZ file:\n",
    "aseLatticeData.write(f'{Atom}/XYZ/{Atom}_{Structure}.xyz')"
   ]
  },
  {
   "cell_type": "markdown",
   "metadata": {},
   "source": [
    "## Generate defects (to do) ##"
   ]
  },
  {
   "cell_type": "code",
   "execution_count": 14,
   "metadata": {},
   "outputs": [
    {
     "name": "stdout",
     "output_type": "stream",
     "text": [
      "Removed atom 40 from Cu_fcc_defect.xyz\n"
     ]
    }
   ],
   "source": [
    "# Duplicate the XYZ file\n",
    "os.system(f'cp {Atom}/XYZ/{Atom}_{Structure}.xyz {Atom}/XYZ/{Atom}_{Structure}_defect.xyz')\n",
    "\n",
    "# Generate random defects in the XYZ file:\n",
    "n_atoms = len(aseLatticeData)\n",
    "for i in range(n_defects):\n",
    "    defect = np.random.randint(1, n_atoms) + 2\n",
    "    # Remove the ith line of the XYZ file corresponding to the defect:\n",
    "    with open(f'{Atom}/XYZ/{Atom}_{Structure}_defect.xyz', 'r') as f:\n",
    "        lines = f.readlines()\n",
    "    with open(f'{Atom}/XYZ/{Atom}_{Structure}_defect.xyz', 'w') as f:\n",
    "        for j, line in enumerate(lines):\n",
    "            if j == 0:\n",
    "                f.write(f'{n_atoms - n_defects}\\n')\n",
    "            elif j != defect:\n",
    "                f.write(line)\n",
    "        \n",
    "    print(f'Removed atom {defect} from {Atom}_{Structure}_defect.xyz')\n"
   ]
  },
  {
   "cell_type": "markdown",
   "metadata": {},
   "source": [
    "## Calculate Potentials ##"
   ]
  },
  {
   "cell_type": "code",
   "execution_count": 15,
   "metadata": {},
   "outputs": [
    {
     "name": "stdout",
     "output_type": "stream",
     "text": [
      "[{'LennardJonesGlobal': {'target': 'structure', 'values': array([-7.399562e-57]), 'units': 'J'}, 'AtomicNumbers': {'target': 'atom', 'values': array([29, 29, 29, 29, 29, 29, 29, 29, 29, 29, 29, 29, 29, 29, 29, 29, 29,\n",
      "       29, 29, 29, 29, 29, 29, 29, 29, 29, 29, 29, 29, 29, 29, 29, 29, 29,\n",
      "       29, 29, 29, 29, 29, 29, 29, 29, 29, 29, 29, 29, 29, 29, 29, 29, 29,\n",
      "       29, 29, 29, 29, 29, 29, 29, 29, 29, 29, 29, 29, 29, 29, 29, 29, 29,\n",
      "       29, 29, 29, 29]), 'units': 'J'}, 'AtomicNumbers2': {'target': 'atom', 'values': array([29, 29, 29, 29, 29, 29, 29, 29, 29, 29, 29, 29, 29, 29, 29, 29, 29,\n",
      "       29, 29, 29, 29, 29, 29, 29, 29, 29, 29, 29, 29, 29, 29, 29, 29, 29,\n",
      "       29, 29, 29, 29, 29, 29, 29, 29, 29, 29, 29, 29, 29, 29, 29, 29, 29,\n",
      "       29, 29, 29, 29, 29, 29, 29, 29, 29, 29, 29, 29, 29, 29, 29, 29, 29,\n",
      "       29, 29, 29, 29]), 'units': 'J'}, 'MorseGlobal': {'target': 'structure', 'values': array([0.]), 'units': 'J'}}, {'LennardJonesGlobal': {'target': 'structure', 'values': array([-7.17953958e-57]), 'units': 'J'}, 'AtomicNumbers': {'target': 'atom', 'values': array([29, 29, 29, 29, 29, 29, 29, 29, 29, 29, 29, 29, 29, 29, 29, 29, 29,\n",
      "       29, 29, 29, 29, 29, 29, 29, 29, 29, 29, 29, 29, 29, 29, 29, 29, 29,\n",
      "       29, 29, 29, 29, 29, 29, 29, 29, 29, 29, 29, 29, 29, 29, 29, 29, 29,\n",
      "       29, 29, 29, 29, 29, 29, 29, 29, 29, 29, 29, 29, 29, 29, 29, 29, 29,\n",
      "       29, 29, 29]), 'units': 'J'}, 'AtomicNumbers2': {'target': 'atom', 'values': array([29, 29, 29, 29, 29, 29, 29, 29, 29, 29, 29, 29, 29, 29, 29, 29, 29,\n",
      "       29, 29, 29, 29, 29, 29, 29, 29, 29, 29, 29, 29, 29, 29, 29, 29, 29,\n",
      "       29, 29, 29, 29, 29, 29, 29, 29, 29, 29, 29, 29, 29, 29, 29, 29, 29,\n",
      "       29, 29, 29, 29, 29, 29, 29, 29, 29, 29, 29, 29, 29, 29, 29, 29, 29,\n",
      "       29, 29, 29]), 'units': 'J'}, 'MorseGlobal': {'target': 'structure', 'values': array([0.]), 'units': 'J'}}]\n"
     ]
    }
   ],
   "source": [
    "frames = ase.io.read(f'{Atom}/XYZ/{Atom}_{Structure}.xyz', ':') + ase.io.read(f'{Atom}/XYZ/{Atom}_{Structure}_defect.xyz', ':')\n",
    "\n",
    "properties = []\n",
    "for i, frame in enumerate(frames):\n",
    "    Charges = frame.get_atomic_numbers()\n",
    "\n",
    "    cmds = [f\"pair_style lj/cut {cutoff_radius}\", f\"pair_coeff * * {epsilon} {sigma}\"]\n",
    "    frame.calc = LAMMPSlib(lmpcmds=cmds, atom_types={'Cu':1}, log_file='log.lammps')\n",
    "    # LennardJonesData = frame.get_potential_energies()\n",
    "    LennardJonesDataGlobal = frame.get_potential_energy()\n",
    "\n",
    "    cmds = [f\"pair_style morse {cutoff_radius}\", f\"pair_coeff * * {D} {alpha} {r0}\"]\n",
    "    frame.calc = LAMMPSlib(lmpcmds=cmds, atom_types={'Cu':1}, log_file='log.lammps')\n",
    "    # MorseData = frame.get_potential_energies()\n",
    "    MorseDataGlobal = frame.get_potential_energy()\n",
    "\n",
    "    properties.append({\n",
    "        # \"LennardJones\": {\n",
    "        #     \"target\": \"atom\",\n",
    "        #     \"values\": LennardJonesData,\n",
    "        #     \"units\": \"J\",\n",
    "        # },\n",
    "        \"LennardJonesGlobal\": {\n",
    "            \"target\": \"structure\",\n",
    "            \"values\": np.array([LennardJonesDataGlobal]),\n",
    "            \"units\": \"J\",\n",
    "        },\n",
    "        \"AtomicNumbers\": { # To delete (here because Chemiscope requires at least two properties)\n",
    "            \"target\": \"atom\",\n",
    "            \"values\": Charges,\n",
    "            \"units\": \"J\",\n",
    "        },\n",
    "        \"AtomicNumbers2\": { # To delete (here because Chemiscope requires at least two properties)\n",
    "            \"target\": \"atom\",\n",
    "            \"values\": Charges,\n",
    "            \"units\": \"J\",\n",
    "        },\n",
    "        # \"Morse\": {\n",
    "        #     \"target\": \"atom\",\n",
    "        #     \"values\": MorseData,\n",
    "        #     \"units\": \"J\",\n",
    "        # },\n",
    "        \"MorseGlobal\": {\n",
    "            \"target\": \"structure\",\n",
    "            \"values\": np.array([MorseDataGlobal]),\n",
    "            \"units\": \"J\",\n",
    "        },\n",
    "    })\n",
    "\n",
    "print(properties)"
   ]
  },
  {
   "cell_type": "code",
   "execution_count": 16,
   "metadata": {},
   "outputs": [],
   "source": [
    "path = f\"{Atom}/JSON/{Atom}.json.gz\"\n",
    "DatasetInformation = {\n",
    "    'name': Atom + ' ' + Structure,\n",
    "    'description': 'Semester Project 1, atom ' + Atom + ' in ' + Structure + ' structure',\n",
    "    'authors': [\n",
    "        'Maxime Saillen',\n",
    "    ],\n",
    "    'references': [\n",
    "        'https://doi.org/10.1016/j.commatsci.2022.111206',\n",
    "    ],\n",
    "}\n",
    "\n",
    "for i in range(len(frames)):\n",
    "    if i == 1:\n",
    "        DatasetInformation['name'] += ' with ' + str(n_defects) + ' defects'\n",
    "        DatasetInformation['description'] += ' with ' + str(n_defects) + ' defects'\n",
    "        path = f\"{Atom}/JSON/{Atom}_defect.json.gz\"\n",
    "\n",
    "    chemi.write_input(\n",
    "        path=path,\n",
    "        frames=frames[i], \n",
    "        meta=DatasetInformation, \n",
    "        properties=properties[i], \n",
    "        environments=chemi.all_atomic_environments(frames[i]), \n",
    "        settings=None, \n",
    "        shapes=None, \n",
    "        parameters=None\n",
    "    )"
   ]
  }
 ],
 "metadata": {
  "kernelspec": {
   "display_name": "Python 3",
   "language": "python",
   "name": "python3"
  },
  "language_info": {
   "codemirror_mode": {
    "name": "ipython",
    "version": 3
   },
   "file_extension": ".py",
   "mimetype": "text/x-python",
   "name": "python",
   "nbconvert_exporter": "python",
   "pygments_lexer": "ipython3",
   "version": "3.11.5"
  },
  "orig_nbformat": 4
 },
 "nbformat": 4,
 "nbformat_minor": 2
}
